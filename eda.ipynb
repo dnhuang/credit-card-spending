{
 "cells": [
  {
   "attachments": {},
   "cell_type": "markdown",
   "metadata": {},
   "source": [
    "## EDA on Credit Card Spending"
   ]
  },
  {
   "attachments": {},
   "cell_type": "markdown",
   "metadata": {},
   "source": [
    "### Imports"
   ]
  },
  {
   "cell_type": "code",
   "execution_count": 35,
   "metadata": {},
   "outputs": [],
   "source": [
    "# necessary imports\n",
    "import pandas as pd\n",
    "from matplotlib import pyplot as plt"
   ]
  },
  {
   "attachments": {},
   "cell_type": "markdown",
   "metadata": {},
   "source": [
    "### EDA"
   ]
  },
  {
   "attachments": {},
   "cell_type": "markdown",
   "metadata": {},
   "source": [
    "**Note**:\n",
    "\n",
    "I did some preliminary preprocessing on data from Bank of America prior to importing it into this notebook. Upon raw export, BoA data did not contain sale type, but more importantly it didn't have a category. Thus, I followed the same category definition as that of Chase Bank spending data. Since there weren't that many records, I manually inputted them."
   ]
  },
  {
   "attachments": {},
   "cell_type": "markdown",
   "metadata": {},
   "source": [
    "I start by reading in all `.csv` files from Bank of America, Chase, and Apple to take a peek at the data."
   ]
  },
  {
   "cell_type": "code",
   "execution_count": 36,
   "metadata": {},
   "outputs": [],
   "source": [
    "# Read in the datasets\n",
    "boa_csv = \"data/bofa_spending_mod.csv\"\n",
    "boa_df = pd.read_csv(boa_csv)\n",
    "\n",
    "chase_csv = \"data/chase_spending.csv\"\n",
    "chase_df = pd.read_csv(chase_csv)\n",
    "\n",
    "apple_csv = \"data/apple_spending.csv\"\n",
    "apple_df = pd.read_csv(apple_csv)"
   ]
  },
  {
   "attachments": {},
   "cell_type": "markdown",
   "metadata": {},
   "source": [
    "#### Bank of America (BoA)"
   ]
  },
  {
   "cell_type": "code",
   "execution_count": 37,
   "metadata": {},
   "outputs": [
    {
     "data": {
      "text/html": [
       "<div>\n",
       "<style scoped>\n",
       "    .dataframe tbody tr th:only-of-type {\n",
       "        vertical-align: middle;\n",
       "    }\n",
       "\n",
       "    .dataframe tbody tr th {\n",
       "        vertical-align: top;\n",
       "    }\n",
       "\n",
       "    .dataframe thead th {\n",
       "        text-align: right;\n",
       "    }\n",
       "</style>\n",
       "<table border=\"1\" class=\"dataframe\">\n",
       "  <thead>\n",
       "    <tr style=\"text-align: right;\">\n",
       "      <th></th>\n",
       "      <th>Posted Date</th>\n",
       "      <th>Reference Number</th>\n",
       "      <th>Payee</th>\n",
       "      <th>Address</th>\n",
       "      <th>Category</th>\n",
       "      <th>Type</th>\n",
       "      <th>Amount</th>\n",
       "    </tr>\n",
       "  </thead>\n",
       "  <tbody>\n",
       "    <tr>\n",
       "      <th>0</th>\n",
       "      <td>05/09/2023</td>\n",
       "      <td>24013393128000843027542</td>\n",
       "      <td>GALPAO GAUCHO CUPERTINO</td>\n",
       "      <td>CUPERTINO     CA</td>\n",
       "      <td>Food &amp; Drink</td>\n",
       "      <td>Sale</td>\n",
       "      <td>-175.44</td>\n",
       "    </tr>\n",
       "    <tr>\n",
       "      <th>1</th>\n",
       "      <td>05/04/2023</td>\n",
       "      <td>12483204320050400050016</td>\n",
       "      <td>PAYMENT - THANK YOU</td>\n",
       "      <td>NaN</td>\n",
       "      <td>NaN</td>\n",
       "      <td>Payment</td>\n",
       "      <td>1789.32</td>\n",
       "    </tr>\n",
       "    <tr>\n",
       "      <th>2</th>\n",
       "      <td>04/28/2023</td>\n",
       "      <td>24137463117100440204356</td>\n",
       "      <td>TST* TEASPOON - SARATOGA</td>\n",
       "      <td>SAN JOSE      CA</td>\n",
       "      <td>Food &amp; Drink</td>\n",
       "      <td>Sale</td>\n",
       "      <td>-5.50</td>\n",
       "    </tr>\n",
       "    <tr>\n",
       "      <th>3</th>\n",
       "      <td>04/25/2023</td>\n",
       "      <td>24431063115091711000198</td>\n",
       "      <td>CHIPOTLE 1031</td>\n",
       "      <td>NEWARK        CA</td>\n",
       "      <td>Food &amp; Drink</td>\n",
       "      <td>Sale</td>\n",
       "      <td>-24.53</td>\n",
       "    </tr>\n",
       "    <tr>\n",
       "      <th>4</th>\n",
       "      <td>04/24/2023</td>\n",
       "      <td>24431063114091710000737</td>\n",
       "      <td>CHIPOTLE 1031</td>\n",
       "      <td>NEWARK        CA</td>\n",
       "      <td>Food &amp; Drink</td>\n",
       "      <td>Sale</td>\n",
       "      <td>-13.84</td>\n",
       "    </tr>\n",
       "    <tr>\n",
       "      <th>5</th>\n",
       "      <td>04/24/2023</td>\n",
       "      <td>24765013113200000000982</td>\n",
       "      <td>DINO'S RESTAURANT</td>\n",
       "      <td>FREMONT       CA</td>\n",
       "      <td>Food &amp; Drink</td>\n",
       "      <td>Sale</td>\n",
       "      <td>-38.00</td>\n",
       "    </tr>\n",
       "    <tr>\n",
       "      <th>6</th>\n",
       "      <td>04/24/2023</td>\n",
       "      <td>24445003113000830662095</td>\n",
       "      <td>CKE*IKES PLACE PALO ALTO</td>\n",
       "      <td>PALO ALTO     CA</td>\n",
       "      <td>Food &amp; Drink</td>\n",
       "      <td>Sale</td>\n",
       "      <td>-36.33</td>\n",
       "    </tr>\n",
       "    <tr>\n",
       "      <th>7</th>\n",
       "      <td>04/24/2023</td>\n",
       "      <td>24435653113091072000619</td>\n",
       "      <td>IKEA EAST PALO ALTO</td>\n",
       "      <td>PALO ALTO     CA</td>\n",
       "      <td>Shopping</td>\n",
       "      <td>Sale</td>\n",
       "      <td>-7.81</td>\n",
       "    </tr>\n",
       "    <tr>\n",
       "      <th>8</th>\n",
       "      <td>04/24/2023</td>\n",
       "      <td>24435653113091585000536</td>\n",
       "      <td>IKEA EAST PALO ALTO</td>\n",
       "      <td>PALO ALTO     CA</td>\n",
       "      <td>Shopping</td>\n",
       "      <td>Sale</td>\n",
       "      <td>-313.13</td>\n",
       "    </tr>\n",
       "    <tr>\n",
       "      <th>9</th>\n",
       "      <td>04/24/2023</td>\n",
       "      <td>24323043112040300073195</td>\n",
       "      <td>DINOS GRILL</td>\n",
       "      <td>NEWARK        CA</td>\n",
       "      <td>Food &amp; Drink</td>\n",
       "      <td>Sale</td>\n",
       "      <td>-33.03</td>\n",
       "    </tr>\n",
       "  </tbody>\n",
       "</table>\n",
       "</div>"
      ],
      "text/plain": [
       "  Posted Date         Reference Number                     Payee   \n",
       "0  05/09/2023  24013393128000843027542   GALPAO GAUCHO CUPERTINO  \\\n",
       "1  05/04/2023  12483204320050400050016       PAYMENT - THANK YOU   \n",
       "2  04/28/2023  24137463117100440204356  TST* TEASPOON - SARATOGA   \n",
       "3  04/25/2023  24431063115091711000198             CHIPOTLE 1031   \n",
       "4  04/24/2023  24431063114091710000737             CHIPOTLE 1031   \n",
       "5  04/24/2023  24765013113200000000982         DINO'S RESTAURANT   \n",
       "6  04/24/2023  24445003113000830662095  CKE*IKES PLACE PALO ALTO   \n",
       "7  04/24/2023  24435653113091072000619       IKEA EAST PALO ALTO   \n",
       "8  04/24/2023  24435653113091585000536       IKEA EAST PALO ALTO   \n",
       "9  04/24/2023  24323043112040300073195               DINOS GRILL   \n",
       "\n",
       "             Address      Category     Type   Amount  \n",
       "0  CUPERTINO     CA   Food & Drink     Sale  -175.44  \n",
       "1                NaN           NaN  Payment  1789.32  \n",
       "2  SAN JOSE      CA   Food & Drink     Sale    -5.50  \n",
       "3  NEWARK        CA   Food & Drink     Sale   -24.53  \n",
       "4  NEWARK        CA   Food & Drink     Sale   -13.84  \n",
       "5  FREMONT       CA   Food & Drink     Sale   -38.00  \n",
       "6  PALO ALTO     CA   Food & Drink     Sale   -36.33  \n",
       "7  PALO ALTO     CA       Shopping     Sale    -7.81  \n",
       "8  PALO ALTO     CA       Shopping     Sale  -313.13  \n",
       "9  NEWARK        CA   Food & Drink     Sale   -33.03  "
      ]
     },
     "execution_count": 37,
     "metadata": {},
     "output_type": "execute_result"
    }
   ],
   "source": [
    "# Bank of America (BoA)\n",
    "boa_df.head(10)"
   ]
  },
  {
   "attachments": {},
   "cell_type": "markdown",
   "metadata": {},
   "source": [
    "To quickly define each feature:\n",
    "\n",
    "* **Posted Date**: The date when the transaction is recieved to my account\n",
    "* **Reference Number**: A unique identifier for the transaction\n",
    "* **Payee**: Merchant I bought from\n",
    "* **Address**: Self-explanatory\n",
    "* **Category**: Label used to categorize a transaction\n",
    "* **Type**: Either a *Sale* made to a merchant or a *Payment* made to the bank\n",
    "* **Amount**: Self-explanatory"
   ]
  },
  {
   "attachments": {},
   "cell_type": "markdown",
   "metadata": {},
   "source": [
    "##### Null Values"
   ]
  },
  {
   "attachments": {},
   "cell_type": "markdown",
   "metadata": {},
   "source": [
    "From just looking at the `.head` of the data, there appears to be some null (`NaN`) values in features `Address` and `Category`. Taking a closer look at these records with nulls:\n"
   ]
  },
  {
   "cell_type": "code",
   "execution_count": 38,
   "metadata": {},
   "outputs": [
    {
     "data": {
      "text/html": [
       "<div>\n",
       "<style scoped>\n",
       "    .dataframe tbody tr th:only-of-type {\n",
       "        vertical-align: middle;\n",
       "    }\n",
       "\n",
       "    .dataframe tbody tr th {\n",
       "        vertical-align: top;\n",
       "    }\n",
       "\n",
       "    .dataframe thead th {\n",
       "        text-align: right;\n",
       "    }\n",
       "</style>\n",
       "<table border=\"1\" class=\"dataframe\">\n",
       "  <thead>\n",
       "    <tr style=\"text-align: right;\">\n",
       "      <th></th>\n",
       "      <th>Posted Date</th>\n",
       "      <th>Reference Number</th>\n",
       "      <th>Payee</th>\n",
       "      <th>Address</th>\n",
       "      <th>Category</th>\n",
       "      <th>Type</th>\n",
       "      <th>Amount</th>\n",
       "    </tr>\n",
       "  </thead>\n",
       "  <tbody>\n",
       "    <tr>\n",
       "      <th>1</th>\n",
       "      <td>05/04/2023</td>\n",
       "      <td>12483204320050400050016</td>\n",
       "      <td>PAYMENT - THANK YOU</td>\n",
       "      <td>NaN</td>\n",
       "      <td>NaN</td>\n",
       "      <td>Payment</td>\n",
       "      <td>1789.32</td>\n",
       "    </tr>\n",
       "  </tbody>\n",
       "</table>\n",
       "</div>"
      ],
      "text/plain": [
       "  Posted Date         Reference Number                Payee Address Category   \n",
       "1  05/04/2023  12483204320050400050016  PAYMENT - THANK YOU     NaN      NaN  \\\n",
       "\n",
       "      Type   Amount  \n",
       "1  Payment  1789.32  "
      ]
     },
     "execution_count": 38,
     "metadata": {},
     "output_type": "execute_result"
    }
   ],
   "source": [
    "# Looking at records with null values in the Address feature\n",
    "boa_df[boa_df['Address'].isna()]"
   ]
  },
  {
   "attachments": {},
   "cell_type": "markdown",
   "metadata": {},
   "source": [
    "It seems like there are only *two* null values in the entire BoA DataFrame. I want to confirm this and I will probably have to do the same check on the other two DataFrames, Chase and Apple. Thus, below, I define a helper function that returns the amount of null values in a DataFrame."
   ]
  },
  {
   "cell_type": "code",
   "execution_count": 39,
   "metadata": {},
   "outputs": [],
   "source": [
    "# Helper function that counts the number of null (NaN) values in a DataFrame.\n",
    "# Takes in a DataFrame `df` and returns the number of null values.\n",
    "# If a name is passed into `df_name`, then a message will be printed.\n",
    "def count_null(df, df_name = \"\"):\n",
    "    num_null = sum(sum(df.isna().values))\n",
    "    if df_name:\n",
    "        print(\"{} contains {} null value(s)\".format(df_name, num_null))\n",
    "    return num_null"
   ]
  },
  {
   "attachments": {},
   "cell_type": "markdown",
   "metadata": {},
   "source": [
    "Confirming the number of null values to be $2$ in `bofa_df`:"
   ]
  },
  {
   "cell_type": "code",
   "execution_count": 40,
   "metadata": {},
   "outputs": [
    {
     "name": "stdout",
     "output_type": "stream",
     "text": [
      "BoA contains 2 null value(s)\n"
     ]
    }
   ],
   "source": [
    "# Call helper function on BoA DataFrame\n",
    "boa_nulls = count_null(boa_df, 'BoA')"
   ]
  },
  {
   "attachments": {},
   "cell_type": "markdown",
   "metadata": {},
   "source": [
    "Helper function seems to be working as intended for now.\n",
    "\n",
    "As for the null values, it seems like it occurs when a credit card payment is being made. This makes sense as there are no `Address` or `Category` for a credit card payment, no item is being bought from a merchant. Since I plan on analyzing my spending, these payment records are not needed; I plan on removing them during pre-processing."
   ]
  },
  {
   "attachments": {},
   "cell_type": "markdown",
   "metadata": {},
   "source": [
    "##### `Amount`"
   ]
  },
  {
   "attachments": {},
   "cell_type": "markdown",
   "metadata": {},
   "source": [
    "Looking at the `Amount` column, other than records of `Type` \"Payment,\" it appears to all be in the negatives. To confirm this, I take a look at the distribution of values in `Amount`:"
   ]
  },
  {
   "cell_type": "code",
   "execution_count": 41,
   "metadata": {},
   "outputs": [
    {
     "data": {
      "image/png": "[encoded data removed]",
      "text/plain": [
       "<Figure size 640x480 with 1 Axes>"
      ]
     },
     "metadata": {},
     "output_type": "display_data"
    }
   ],
   "source": [
    "# Plotting the distribution of `Amount` in `boa_df`\n",
    "plt.hist(boa_df['Amount'])\n",
    "plt.title('Distribution of Amount in boa_df')\n",
    "plt.xlabel('Amount')\n",
    "plt.ylabel('Count')\n",
    "plt.show()"
   ]
  },
  {
   "attachments": {},
   "cell_type": "markdown",
   "metadata": {},
   "source": [
    "From looking at the distribution, it does appear that all records other than payments are negative. To confirm this for sure, I count the number of records where `Amount` is $\\leq 0$ and compare it to the total number of records in `boa_df`:"
   ]
  },
  {
   "cell_type": "code",
   "execution_count": 42,
   "metadata": {},
   "outputs": [
    {
     "name": "stdout",
     "output_type": "stream",
     "text": [
      "boa_df negative records: 38\n",
      "boa_df total records: 39\n"
     ]
    }
   ],
   "source": [
    "# BoA records with Amount <= 0\n",
    "print(\"boa_df negative records: {}\".format(len(boa_df[boa_df['Amount'] <= 0])))\n",
    "\n",
    "# BoA total records\n",
    "print(\"boa_df total records: {}\".format(len(boa_df)))"
   ]
  },
  {
   "attachments": {},
   "cell_type": "markdown",
   "metadata": {},
   "source": [
    "This confirms that records with `Type` \"Payment\" are the only positive transactions. In my analysis, I would prefer to work with positive numbers. Thus, I will be converting these negative amounts to positive in preprocessing."
   ]
  },
  {
   "attachments": {},
   "cell_type": "markdown",
   "metadata": {},
   "source": [
    "#### Chase"
   ]
  },
  {
   "cell_type": "code",
   "execution_count": 43,
   "metadata": {},
   "outputs": [
    {
     "data": {
      "text/html": [
       "<div>\n",
       "<style scoped>\n",
       "    .dataframe tbody tr th:only-of-type {\n",
       "        vertical-align: middle;\n",
       "    }\n",
       "\n",
       "    .dataframe tbody tr th {\n",
       "        vertical-align: top;\n",
       "    }\n",
       "\n",
       "    .dataframe thead th {\n",
       "        text-align: right;\n",
       "    }\n",
       "</style>\n",
       "<table border=\"1\" class=\"dataframe\">\n",
       "  <thead>\n",
       "    <tr style=\"text-align: right;\">\n",
       "      <th></th>\n",
       "      <th>Transaction Date</th>\n",
       "      <th>Post Date</th>\n",
       "      <th>Description</th>\n",
       "      <th>Category</th>\n",
       "      <th>Type</th>\n",
       "      <th>Amount</th>\n",
       "      <th>Memo</th>\n",
       "    </tr>\n",
       "  </thead>\n",
       "  <tbody>\n",
       "    <tr>\n",
       "      <th>0</th>\n",
       "      <td>05/25/2023</td>\n",
       "      <td>05/26/2023</td>\n",
       "      <td>Kindle Svcs*O67RM7PS3</td>\n",
       "      <td>Shopping</td>\n",
       "      <td>Sale</td>\n",
       "      <td>-9.99</td>\n",
       "      <td>NaN</td>\n",
       "    </tr>\n",
       "    <tr>\n",
       "      <th>1</th>\n",
       "      <td>05/19/2023</td>\n",
       "      <td>05/21/2023</td>\n",
       "      <td>Payment Thank You-Mobile</td>\n",
       "      <td>NaN</td>\n",
       "      <td>Payment</td>\n",
       "      <td>24.98</td>\n",
       "      <td>NaN</td>\n",
       "    </tr>\n",
       "    <tr>\n",
       "      <th>2</th>\n",
       "      <td>05/12/2023</td>\n",
       "      <td>05/14/2023</td>\n",
       "      <td>Netflix</td>\n",
       "      <td>Bills &amp; Utilities</td>\n",
       "      <td>Sale</td>\n",
       "      <td>-19.99</td>\n",
       "      <td>NaN</td>\n",
       "    </tr>\n",
       "    <tr>\n",
       "      <th>3</th>\n",
       "      <td>05/11/2023</td>\n",
       "      <td>05/12/2023</td>\n",
       "      <td>Spotify USA</td>\n",
       "      <td>Bills &amp; Utilities</td>\n",
       "      <td>Sale</td>\n",
       "      <td>-4.99</td>\n",
       "      <td>NaN</td>\n",
       "    </tr>\n",
       "    <tr>\n",
       "      <th>4</th>\n",
       "      <td>05/05/2023</td>\n",
       "      <td>05/05/2023</td>\n",
       "      <td>Payment Thank You - Web</td>\n",
       "      <td>NaN</td>\n",
       "      <td>Payment</td>\n",
       "      <td>220.63</td>\n",
       "      <td>NaN</td>\n",
       "    </tr>\n",
       "    <tr>\n",
       "      <th>5</th>\n",
       "      <td>05/03/2023</td>\n",
       "      <td>05/04/2023</td>\n",
       "      <td>PAYPAL *STEAM GAMES</td>\n",
       "      <td>Entertainment</td>\n",
       "      <td>Sale</td>\n",
       "      <td>-29.22</td>\n",
       "      <td>NaN</td>\n",
       "    </tr>\n",
       "    <tr>\n",
       "      <th>6</th>\n",
       "      <td>05/02/2023</td>\n",
       "      <td>05/02/2023</td>\n",
       "      <td>PAYPAL *STEAM GAMES</td>\n",
       "      <td>Entertainment</td>\n",
       "      <td>Sale</td>\n",
       "      <td>-19.99</td>\n",
       "      <td>NaN</td>\n",
       "    </tr>\n",
       "    <tr>\n",
       "      <th>7</th>\n",
       "      <td>04/30/2023</td>\n",
       "      <td>05/02/2023</td>\n",
       "      <td>IZUMI SUSHI</td>\n",
       "      <td>Food &amp; Drink</td>\n",
       "      <td>Sale</td>\n",
       "      <td>-154.95</td>\n",
       "      <td>NaN</td>\n",
       "    </tr>\n",
       "    <tr>\n",
       "      <th>8</th>\n",
       "      <td>04/30/2023</td>\n",
       "      <td>05/02/2023</td>\n",
       "      <td>BERKELEY BOWL WEST</td>\n",
       "      <td>Groceries</td>\n",
       "      <td>Sale</td>\n",
       "      <td>-5.99</td>\n",
       "      <td>NaN</td>\n",
       "    </tr>\n",
       "    <tr>\n",
       "      <th>9</th>\n",
       "      <td>04/29/2023</td>\n",
       "      <td>04/30/2023</td>\n",
       "      <td>PAYPAL *GWDCONCEPTS</td>\n",
       "      <td>Shopping</td>\n",
       "      <td>Sale</td>\n",
       "      <td>-10.48</td>\n",
       "      <td>NaN</td>\n",
       "    </tr>\n",
       "  </tbody>\n",
       "</table>\n",
       "</div>"
      ],
      "text/plain": [
       "  Transaction Date   Post Date               Description           Category   \n",
       "0       05/25/2023  05/26/2023     Kindle Svcs*O67RM7PS3           Shopping  \\\n",
       "1       05/19/2023  05/21/2023  Payment Thank You-Mobile                NaN   \n",
       "2       05/12/2023  05/14/2023                   Netflix  Bills & Utilities   \n",
       "3       05/11/2023  05/12/2023               Spotify USA  Bills & Utilities   \n",
       "4       05/05/2023  05/05/2023   Payment Thank You - Web                NaN   \n",
       "5       05/03/2023  05/04/2023       PAYPAL *STEAM GAMES      Entertainment   \n",
       "6       05/02/2023  05/02/2023       PAYPAL *STEAM GAMES      Entertainment   \n",
       "7       04/30/2023  05/02/2023               IZUMI SUSHI       Food & Drink   \n",
       "8       04/30/2023  05/02/2023        BERKELEY BOWL WEST          Groceries   \n",
       "9       04/29/2023  04/30/2023       PAYPAL *GWDCONCEPTS           Shopping   \n",
       "\n",
       "      Type  Amount  Memo  \n",
       "0     Sale   -9.99   NaN  \n",
       "1  Payment   24.98   NaN  \n",
       "2     Sale  -19.99   NaN  \n",
       "3     Sale   -4.99   NaN  \n",
       "4  Payment  220.63   NaN  \n",
       "5     Sale  -29.22   NaN  \n",
       "6     Sale  -19.99   NaN  \n",
       "7     Sale -154.95   NaN  \n",
       "8     Sale   -5.99   NaN  \n",
       "9     Sale  -10.48   NaN  "
      ]
     },
     "execution_count": 43,
     "metadata": {},
     "output_type": "execute_result"
    }
   ],
   "source": [
    "# Chase\n",
    "chase_df.head(10)"
   ]
  },
  {
   "attachments": {},
   "cell_type": "markdown",
   "metadata": {},
   "source": [
    "Similar to what I did to the BoA data, I want to take a look at records that contain null values in the `Category` column to confirm wehther or not those are of `Type` \"Payment.\""
   ]
  },
  {
   "cell_type": "code",
   "execution_count": 44,
   "metadata": {},
   "outputs": [
    {
     "data": {
      "text/html": [
       "<div>\n",
       "<style scoped>\n",
       "    .dataframe tbody tr th:only-of-type {\n",
       "        vertical-align: middle;\n",
       "    }\n",
       "\n",
       "    .dataframe tbody tr th {\n",
       "        vertical-align: top;\n",
       "    }\n",
       "\n",
       "    .dataframe thead th {\n",
       "        text-align: right;\n",
       "    }\n",
       "</style>\n",
       "<table border=\"1\" class=\"dataframe\">\n",
       "  <thead>\n",
       "    <tr style=\"text-align: right;\">\n",
       "      <th></th>\n",
       "      <th>Transaction Date</th>\n",
       "      <th>Post Date</th>\n",
       "      <th>Description</th>\n",
       "      <th>Category</th>\n",
       "      <th>Type</th>\n",
       "      <th>Amount</th>\n",
       "      <th>Memo</th>\n",
       "    </tr>\n",
       "  </thead>\n",
       "  <tbody>\n",
       "    <tr>\n",
       "      <th>1</th>\n",
       "      <td>05/19/2023</td>\n",
       "      <td>05/21/2023</td>\n",
       "      <td>Payment Thank You-Mobile</td>\n",
       "      <td>NaN</td>\n",
       "      <td>Payment</td>\n",
       "      <td>24.98</td>\n",
       "      <td>NaN</td>\n",
       "    </tr>\n",
       "    <tr>\n",
       "      <th>4</th>\n",
       "      <td>05/05/2023</td>\n",
       "      <td>05/05/2023</td>\n",
       "      <td>Payment Thank You - Web</td>\n",
       "      <td>NaN</td>\n",
       "      <td>Payment</td>\n",
       "      <td>220.63</td>\n",
       "      <td>NaN</td>\n",
       "    </tr>\n",
       "    <tr>\n",
       "      <th>10</th>\n",
       "      <td>04/17/2023</td>\n",
       "      <td>04/18/2023</td>\n",
       "      <td>Payment Thank You-Mobile</td>\n",
       "      <td>NaN</td>\n",
       "      <td>Payment</td>\n",
       "      <td>99.43</td>\n",
       "      <td>NaN</td>\n",
       "    </tr>\n",
       "    <tr>\n",
       "      <th>15</th>\n",
       "      <td>04/10/2023</td>\n",
       "      <td>04/10/2023</td>\n",
       "      <td>Payment Thank You - Web</td>\n",
       "      <td>NaN</td>\n",
       "      <td>Payment</td>\n",
       "      <td>778.30</td>\n",
       "      <td>NaN</td>\n",
       "    </tr>\n",
       "    <tr>\n",
       "      <th>26</th>\n",
       "      <td>03/29/2023</td>\n",
       "      <td>03/29/2023</td>\n",
       "      <td>Payment Thank You - Web</td>\n",
       "      <td>NaN</td>\n",
       "      <td>Payment</td>\n",
       "      <td>637.64</td>\n",
       "      <td>NaN</td>\n",
       "    </tr>\n",
       "    <tr>\n",
       "      <th>33</th>\n",
       "      <td>03/20/2023</td>\n",
       "      <td>03/20/2023</td>\n",
       "      <td>Payment Thank You-Mobile</td>\n",
       "      <td>NaN</td>\n",
       "      <td>Payment</td>\n",
       "      <td>18.22</td>\n",
       "      <td>NaN</td>\n",
       "    </tr>\n",
       "    <tr>\n",
       "      <th>38</th>\n",
       "      <td>03/16/2023</td>\n",
       "      <td>03/16/2023</td>\n",
       "      <td>Payment Thank You - Web</td>\n",
       "      <td>NaN</td>\n",
       "      <td>Payment</td>\n",
       "      <td>656.60</td>\n",
       "      <td>NaN</td>\n",
       "    </tr>\n",
       "    <tr>\n",
       "      <th>48</th>\n",
       "      <td>03/05/2023</td>\n",
       "      <td>03/05/2023</td>\n",
       "      <td>Payment Thank You - Web</td>\n",
       "      <td>NaN</td>\n",
       "      <td>Payment</td>\n",
       "      <td>434.22</td>\n",
       "      <td>NaN</td>\n",
       "    </tr>\n",
       "    <tr>\n",
       "      <th>61</th>\n",
       "      <td>02/20/2023</td>\n",
       "      <td>02/20/2023</td>\n",
       "      <td>Payment Thank You-Mobile</td>\n",
       "      <td>NaN</td>\n",
       "      <td>Payment</td>\n",
       "      <td>683.69</td>\n",
       "      <td>NaN</td>\n",
       "    </tr>\n",
       "    <tr>\n",
       "      <th>84</th>\n",
       "      <td>01/30/2023</td>\n",
       "      <td>01/30/2023</td>\n",
       "      <td>Payment Thank You - Web</td>\n",
       "      <td>NaN</td>\n",
       "      <td>Payment</td>\n",
       "      <td>667.23</td>\n",
       "      <td>NaN</td>\n",
       "    </tr>\n",
       "    <tr>\n",
       "      <th>103</th>\n",
       "      <td>01/10/2023</td>\n",
       "      <td>01/10/2023</td>\n",
       "      <td>Payment Thank You - Web</td>\n",
       "      <td>NaN</td>\n",
       "      <td>Payment</td>\n",
       "      <td>744.94</td>\n",
       "      <td>NaN</td>\n",
       "    </tr>\n",
       "  </tbody>\n",
       "</table>\n",
       "</div>"
      ],
      "text/plain": [
       "    Transaction Date   Post Date               Description Category     Type   \n",
       "1         05/19/2023  05/21/2023  Payment Thank You-Mobile      NaN  Payment  \\\n",
       "4         05/05/2023  05/05/2023   Payment Thank You - Web      NaN  Payment   \n",
       "10        04/17/2023  04/18/2023  Payment Thank You-Mobile      NaN  Payment   \n",
       "15        04/10/2023  04/10/2023   Payment Thank You - Web      NaN  Payment   \n",
       "26        03/29/2023  03/29/2023   Payment Thank You - Web      NaN  Payment   \n",
       "33        03/20/2023  03/20/2023  Payment Thank You-Mobile      NaN  Payment   \n",
       "38        03/16/2023  03/16/2023   Payment Thank You - Web      NaN  Payment   \n",
       "48        03/05/2023  03/05/2023   Payment Thank You - Web      NaN  Payment   \n",
       "61        02/20/2023  02/20/2023  Payment Thank You-Mobile      NaN  Payment   \n",
       "84        01/30/2023  01/30/2023   Payment Thank You - Web      NaN  Payment   \n",
       "103       01/10/2023  01/10/2023   Payment Thank You - Web      NaN  Payment   \n",
       "\n",
       "     Amount  Memo  \n",
       "1     24.98   NaN  \n",
       "4    220.63   NaN  \n",
       "10    99.43   NaN  \n",
       "15   778.30   NaN  \n",
       "26   637.64   NaN  \n",
       "33    18.22   NaN  \n",
       "38   656.60   NaN  \n",
       "48   434.22   NaN  \n",
       "61   683.69   NaN  \n",
       "84   667.23   NaN  \n",
       "103  744.94   NaN  "
      ]
     },
     "execution_count": 44,
     "metadata": {},
     "output_type": "execute_result"
    }
   ],
   "source": [
    "chase_df[chase_df['Category'].isna()]"
   ]
  },
  {
   "attachments": {},
   "cell_type": "markdown",
   "metadata": {},
   "source": [
    "As suspected, they are of `Type` \"Payment.\" During preprocessing, these records will be removed. As a side note, I found it pretty interesting that Chase kept track of how I made my payment, either through their website or through their mobile application.\n",
    "\n",
    "There are a total of $11$ payment records, but there also seems to be an additional `Memo` column that contains null values. Taking a look at the values in this column:"
   ]
  },
  {
   "cell_type": "code",
   "execution_count": 45,
   "metadata": {},
   "outputs": [
    {
     "data": {
      "text/plain": [
       "array([nan])"
      ]
     },
     "execution_count": 45,
     "metadata": {},
     "output_type": "execute_result"
    }
   ],
   "source": [
    "chase_df['Memo'].unique()"
   ]
  },
  {
   "attachments": {},
   "cell_type": "markdown",
   "metadata": {},
   "source": [
    "`Memo` in `chase_df` seems to only contain null values, which makes sense as I don't ever recall making a memo or publishing comments on my purchases. Thus, this column will be removed in preprocessing as it adds no information.\n",
    "\n",
    "My `count_null()` helper function counts the number of null values in a DataFrame, and thus this check wouldn't work properly unless the column was removed. Thus, I will temporarily drop the column to check null values in `chase_df`. With the previously mentioned $11$ payment records, `count_null()` should return $11$ with the `Memo` column dropped in `chase_df`."
   ]
  },
  {
   "cell_type": "code",
   "execution_count": 46,
   "metadata": {},
   "outputs": [
    {
     "name": "stdout",
     "output_type": "stream",
     "text": [
      "Chase contains 11 null value(s)\n"
     ]
    }
   ],
   "source": [
    "# Checking null values in the entire `chase_df` without the `Memo` column\n",
    "chase_nulls = count_null(chase_df.drop(['Memo'], axis=1), 'Chase')"
   ]
  },
  {
   "attachments": {},
   "cell_type": "markdown",
   "metadata": {},
   "source": [
    "As predicted, only records with `Type` \"Payment\" conteain null values in the `Category` column. Thus, just like what I did for the Bank of America data, these records will be removed in preprocessing."
   ]
  },
  {
   "attachments": {},
   "cell_type": "markdown",
   "metadata": {},
   "source": [
    "And just like `boa_df`, the `Amount` column in `chase_df` also seems to be *positive* for \"Payment\" and *negative* for \"Sales.\" I confirm this below:"
   ]
  },
  {
   "cell_type": "code",
   "execution_count": 47,
   "metadata": {},
   "outputs": [
    {
     "name": "stdout",
     "output_type": "stream",
     "text": [
      "chase_df negative records: 104\n",
      "chase_df total records: 115\n"
     ]
    }
   ],
   "source": [
    "# Chase records with Amount <= 0\n",
    "print(\"chase_df negative records: {}\".format(len(chase_df[chase_df['Amount'] <= 0])))\n",
    "\n",
    "# BoA total records\n",
    "print(\"chase_df total records: {}\".format(len(chase_df)))"
   ]
  },
  {
   "attachments": {},
   "cell_type": "markdown",
   "metadata": {},
   "source": [
    "$115-104=11$, which confirms the number of \"Sale\" records. These values in `Amount` will be converted to positive values in preprocessing for further analysis."
   ]
  },
  {
   "attachments": {},
   "cell_type": "markdown",
   "metadata": {},
   "source": [
    "#### Apple"
   ]
  },
  {
   "cell_type": "code",
   "execution_count": 48,
   "metadata": {},
   "outputs": [
    {
     "data": {
      "text/html": [
       "<div>\n",
       "<style scoped>\n",
       "    .dataframe tbody tr th:only-of-type {\n",
       "        vertical-align: middle;\n",
       "    }\n",
       "\n",
       "    .dataframe tbody tr th {\n",
       "        vertical-align: top;\n",
       "    }\n",
       "\n",
       "    .dataframe thead th {\n",
       "        text-align: right;\n",
       "    }\n",
       "</style>\n",
       "<table border=\"1\" class=\"dataframe\">\n",
       "  <thead>\n",
       "    <tr style=\"text-align: right;\">\n",
       "      <th></th>\n",
       "      <th>Transaction Date</th>\n",
       "      <th>Clearing Date</th>\n",
       "      <th>Description</th>\n",
       "      <th>Merchant</th>\n",
       "      <th>Category</th>\n",
       "      <th>Type</th>\n",
       "      <th>Amount (USD)</th>\n",
       "      <th>Purchased By</th>\n",
       "    </tr>\n",
       "  </thead>\n",
       "  <tbody>\n",
       "    <tr>\n",
       "      <th>0</th>\n",
       "      <td>05/27/2023</td>\n",
       "      <td>05/29/2023</td>\n",
       "      <td>KHAN SHABU SHABU AND B1010 E ELCAMINO REAL SUN...</td>\n",
       "      <td>Khan Shabu Shabu and B</td>\n",
       "      <td>Restaurants</td>\n",
       "      <td>Purchase</td>\n",
       "      <td>96.49</td>\n",
       "      <td>Daniel Huang</td>\n",
       "    </tr>\n",
       "    <tr>\n",
       "      <th>1</th>\n",
       "      <td>05/25/2023</td>\n",
       "      <td>05/26/2023</td>\n",
       "      <td>SAFEWAY #1224 5877 JARVIS AVE NEWARK 94560 CA USA</td>\n",
       "      <td>Safeway</td>\n",
       "      <td>Grocery</td>\n",
       "      <td>Purchase</td>\n",
       "      <td>24.22</td>\n",
       "      <td>Daniel Huang</td>\n",
       "    </tr>\n",
       "    <tr>\n",
       "      <th>2</th>\n",
       "      <td>05/23/2023</td>\n",
       "      <td>05/25/2023</td>\n",
       "      <td>DINOS GRILL 5855 JARVIS AVE STE A NEWARK 94560...</td>\n",
       "      <td>Dino's Grill</td>\n",
       "      <td>Restaurants</td>\n",
       "      <td>Purchase</td>\n",
       "      <td>39.26</td>\n",
       "      <td>Daniel Huang</td>\n",
       "    </tr>\n",
       "    <tr>\n",
       "      <th>3</th>\n",
       "      <td>05/23/2023</td>\n",
       "      <td>05/23/2023</td>\n",
       "      <td>OSAKA MARKETPLACE 46881 WARM SPRINGS BOULE FRE...</td>\n",
       "      <td>Osaka Marketplace</td>\n",
       "      <td>Grocery</td>\n",
       "      <td>Purchase</td>\n",
       "      <td>9.30</td>\n",
       "      <td>Daniel Huang</td>\n",
       "    </tr>\n",
       "    <tr>\n",
       "      <th>4</th>\n",
       "      <td>05/19/2023</td>\n",
       "      <td>05/21/2023</td>\n",
       "      <td>MCDONALDS 12056 3000 NEWPARK MALL RD NEWARK 94...</td>\n",
       "      <td>McDonald's</td>\n",
       "      <td>Restaurants</td>\n",
       "      <td>Purchase</td>\n",
       "      <td>9.06</td>\n",
       "      <td>Daniel Huang</td>\n",
       "    </tr>\n",
       "    <tr>\n",
       "      <th>5</th>\n",
       "      <td>05/18/2023</td>\n",
       "      <td>05/19/2023</td>\n",
       "      <td>SAFEWAY #1224 5877 JARVIS AVE NEWARK 94560 CA USA</td>\n",
       "      <td>Safeway</td>\n",
       "      <td>Grocery</td>\n",
       "      <td>Purchase</td>\n",
       "      <td>36.43</td>\n",
       "      <td>Daniel Huang</td>\n",
       "    </tr>\n",
       "    <tr>\n",
       "      <th>6</th>\n",
       "      <td>05/17/2023</td>\n",
       "      <td>05/18/2023</td>\n",
       "      <td>BEST BUY 000085163090 STEVENS CREEK BVD SAN JO...</td>\n",
       "      <td>Best Buy</td>\n",
       "      <td>Other</td>\n",
       "      <td>Purchase</td>\n",
       "      <td>76.55</td>\n",
       "      <td>Daniel Huang</td>\n",
       "    </tr>\n",
       "    <tr>\n",
       "      <th>7</th>\n",
       "      <td>05/16/2023</td>\n",
       "      <td>05/17/2023</td>\n",
       "      <td>HABIT FREMONT #93 Q9143830 PACIFIC COMMONS BL ...</td>\n",
       "      <td>Habit Fremont #93 Q91</td>\n",
       "      <td>Restaurants</td>\n",
       "      <td>Purchase</td>\n",
       "      <td>33.42</td>\n",
       "      <td>Daniel Huang</td>\n",
       "    </tr>\n",
       "    <tr>\n",
       "      <th>8</th>\n",
       "      <td>05/12/2023</td>\n",
       "      <td>05/14/2023</td>\n",
       "      <td>MCDONALDS 12056 3000 NEWPARK MALL RD NEWARK 94...</td>\n",
       "      <td>McDonald's</td>\n",
       "      <td>Restaurants</td>\n",
       "      <td>Purchase</td>\n",
       "      <td>10.49</td>\n",
       "      <td>Daniel Huang</td>\n",
       "    </tr>\n",
       "    <tr>\n",
       "      <th>9</th>\n",
       "      <td>05/13/2023</td>\n",
       "      <td>05/13/2023</td>\n",
       "      <td>CAL ALUMNI ASSOCIATION1 ALUMNI HOUSE (MEMB) BE...</td>\n",
       "      <td>Cal Alumni Association</td>\n",
       "      <td>Other</td>\n",
       "      <td>Purchase</td>\n",
       "      <td>340.00</td>\n",
       "      <td>Daniel Huang</td>\n",
       "    </tr>\n",
       "  </tbody>\n",
       "</table>\n",
       "</div>"
      ],
      "text/plain": [
       "  Transaction Date Clearing Date   \n",
       "0       05/27/2023    05/29/2023  \\\n",
       "1       05/25/2023    05/26/2023   \n",
       "2       05/23/2023    05/25/2023   \n",
       "3       05/23/2023    05/23/2023   \n",
       "4       05/19/2023    05/21/2023   \n",
       "5       05/18/2023    05/19/2023   \n",
       "6       05/17/2023    05/18/2023   \n",
       "7       05/16/2023    05/17/2023   \n",
       "8       05/12/2023    05/14/2023   \n",
       "9       05/13/2023    05/13/2023   \n",
       "\n",
       "                                         Description                Merchant   \n",
       "0  KHAN SHABU SHABU AND B1010 E ELCAMINO REAL SUN...  Khan Shabu Shabu and B  \\\n",
       "1  SAFEWAY #1224 5877 JARVIS AVE NEWARK 94560 CA USA                 Safeway   \n",
       "2  DINOS GRILL 5855 JARVIS AVE STE A NEWARK 94560...            Dino's Grill   \n",
       "3  OSAKA MARKETPLACE 46881 WARM SPRINGS BOULE FRE...       Osaka Marketplace   \n",
       "4  MCDONALDS 12056 3000 NEWPARK MALL RD NEWARK 94...              McDonald's   \n",
       "5  SAFEWAY #1224 5877 JARVIS AVE NEWARK 94560 CA USA                 Safeway   \n",
       "6  BEST BUY 000085163090 STEVENS CREEK BVD SAN JO...                Best Buy   \n",
       "7  HABIT FREMONT #93 Q9143830 PACIFIC COMMONS BL ...   Habit Fremont #93 Q91   \n",
       "8  MCDONALDS 12056 3000 NEWPARK MALL RD NEWARK 94...              McDonald's   \n",
       "9  CAL ALUMNI ASSOCIATION1 ALUMNI HOUSE (MEMB) BE...  Cal Alumni Association   \n",
       "\n",
       "      Category      Type  Amount (USD)  Purchased By  \n",
       "0  Restaurants  Purchase         96.49  Daniel Huang  \n",
       "1      Grocery  Purchase         24.22  Daniel Huang  \n",
       "2  Restaurants  Purchase         39.26  Daniel Huang  \n",
       "3      Grocery  Purchase          9.30  Daniel Huang  \n",
       "4  Restaurants  Purchase          9.06  Daniel Huang  \n",
       "5      Grocery  Purchase         36.43  Daniel Huang  \n",
       "6        Other  Purchase         76.55  Daniel Huang  \n",
       "7  Restaurants  Purchase         33.42  Daniel Huang  \n",
       "8  Restaurants  Purchase         10.49  Daniel Huang  \n",
       "9        Other  Purchase        340.00  Daniel Huang  "
      ]
     },
     "execution_count": 48,
     "metadata": {},
     "output_type": "execute_result"
    }
   ],
   "source": [
    "# Apple\n",
    "apple_df.head(10)"
   ]
  },
  {
   "attachments": {},
   "cell_type": "markdown",
   "metadata": {},
   "source": [
    "Apple clearly keeps track of more features compared to BoA and Chase. The `Purchased By` feature intrigued me, as I intially thought who would be making a purchase other than me. But upon some research, it appears that you can add [family members to an Apple Card as a \"co-owner,\"](https://support.apple.com/en-us/HT212020) granting them access to authorize payments. Thus, it makes sense why Apple would have this column in their data.\n",
    "\n",
    "I start by first checking for null values."
   ]
  },
  {
   "cell_type": "code",
   "execution_count": 49,
   "metadata": {},
   "outputs": [
    {
     "name": "stdout",
     "output_type": "stream",
     "text": [
      "Apple contains 0 null value(s)\n"
     ]
    }
   ],
   "source": [
    "apple_nulls = count_null(apple_df, 'Apple')"
   ]
  },
  {
   "attachments": {},
   "cell_type": "markdown",
   "metadata": {},
   "source": [
    "No null values recorded, that simplifies preprocessing.\n",
    "\n",
    "Taking a look at the `Amount (USD)` column, it is equivalent to the `Amount` column of BoA and Chase. However, it seems like Apple lists positive values instead of negative. I double check this in the following code cell:"
   ]
  },
  {
   "cell_type": "code",
   "execution_count": 50,
   "metadata": {},
   "outputs": [
    {
     "name": "stdout",
     "output_type": "stream",
     "text": [
      "apple_df negative records: 0\n",
      "apple_df total records: 18\n"
     ]
    }
   ],
   "source": [
    "# Apple records with Amount <= 0\n",
    "print(\"apple_df negative records: {}\".format(len(apple_df[apple_df['Amount (USD)'] <= 0])))\n",
    "\n",
    "# BoA total records\n",
    "print(\"apple_df total records: {}\".format(len(apple_df)))"
   ]
  },
  {
   "attachments": {},
   "cell_type": "markdown",
   "metadata": {},
   "source": [
    "$0$ negative records out of $18$, which implies all records are strictly positive. Once again, this simplifies my preprocessing as no additional work needs to be done."
   ]
  },
  {
   "attachments": {},
   "cell_type": "markdown",
   "metadata": {},
   "source": [
    "#### Table Consolidation Plan"
   ]
  },
  {
   "attachments": {},
   "cell_type": "markdown",
   "metadata": {},
   "source": [
    "Ultimately, I want to combine all records from `boa_df`, `chase_df`, and `apple_df` together. To do that, the three tables must have the same schema. All three tables have a slighly different schema, thus I propose the following universal schema that I wish to work with:\n",
    "\n",
    "\n",
    "| column_name | type |\n",
    "| --- | --- |\n",
    "| transaction_date | date |\n",
    "| merchant | varchar |\n",
    "| category | enum |\n",
    "| amount | int |\n",
    "| card | enum|"
   ]
  },
  {
   "attachments": {},
   "cell_type": "markdown",
   "metadata": {},
   "source": [
    "There will be no primary key column for this table; the default index for each transaction will do for my purposes.\n",
    "\n",
    "Note that for data type, I used SQL data types. In Python, these data types would be simpler (mostly just Strings). But one day when I plan on migrating the cleaned data into a SQL server, this is the schema that I would use."
   ]
  },
  {
   "attachments": {},
   "cell_type": "markdown",
   "metadata": {},
   "source": [
    "Below, I define a table showing where in the three DataFrames they will come from:\n",
    "\n",
    "| column_name | boa_df | chase_df | apple_df |\n",
    "| --- | --- | --- | --- |\n",
    "| transaction_date | Posted Date | Transaction Date | Transaction Date |\n",
    "| merchant | Payee | Description | Merchant |\n",
    "| category | Category | Category | Category |\n",
    "| amount | Amount | Amount | Amount (USD) |\n",
    "| card | \"BoA\" | \"Chase\" | \"Apple\" |\n",
    "\n",
    "Some things of note:\n",
    "* The BoA data does not have a transaction date, which is why I use `Posted Date` in its place.\n",
    "* `Card` column is a feature I will add during preprocessing; it will allow me to group purchases depending on card used, which may be useful for analysis and visualization later on\n",
    "* `Category` between BoA and Chase are the same (I know this because I feature engineered the Category Column in BoA based on that of Chase), but Apple is different. I will take a look at the unique values in `apple_df` to determine a mapping of Apple's `Category` to the categories shared by BoA and Chase\n",
    "\n",
    "All other columns that were not enumerated in the schema above will be dropped during preprocessing as they have been determined to not be useful (such as `Memo` in `chase_df`) or would be too hard to replicate in other tables (location comes to mind, don't really want to mess with regex to extrapolate location with all the inconsistencies in merchant description)."
   ]
  },
  {
   "attachments": {},
   "cell_type": "markdown",
   "metadata": {},
   "source": [
    "#### Investigating Apple's Category Mapping to BoA and Chase"
   ]
  },
  {
   "attachments": {},
   "cell_type": "markdown",
   "metadata": {},
   "source": [
    "Taking a look at the `Category` column in `apple_df` and `chase_df` (since `boa_df`'s `Category` is based on Chase):"
   ]
  },
  {
   "cell_type": "code",
   "execution_count": 51,
   "metadata": {},
   "outputs": [
    {
     "name": "stdout",
     "output_type": "stream",
     "text": [
      "Chase Categories:\n",
      "['Shopping' nan 'Bills & Utilities' 'Entertainment' 'Food & Drink'\n",
      " 'Groceries' 'Professional Services' 'Travel' 'Gas']\n",
      "\n",
      "\n",
      "Apple Categories:\n",
      "['Restaurants' 'Grocery' 'Other' 'Shopping']\n"
     ]
    }
   ],
   "source": [
    "# Chase categories\n",
    "print(\"Chase Categories:\\n{}\\n\\n\".format(chase_df['Category'].unique()))\n",
    "\n",
    "\n",
    "# Apple categories\n",
    "print(\"Apple Categories:\\n{}\".format(apple_df['Category'].unique()))"
   ]
  },
  {
   "attachments": {},
   "cell_type": "markdown",
   "metadata": {},
   "source": [
    "Taking a closer look at the \"Other\" `Category` in `apple_df`:"
   ]
  },
  {
   "cell_type": "code",
   "execution_count": 52,
   "metadata": {},
   "outputs": [
    {
     "data": {
      "text/html": [
       "<div>\n",
       "<style scoped>\n",
       "    .dataframe tbody tr th:only-of-type {\n",
       "        vertical-align: middle;\n",
       "    }\n",
       "\n",
       "    .dataframe tbody tr th {\n",
       "        vertical-align: top;\n",
       "    }\n",
       "\n",
       "    .dataframe thead th {\n",
       "        text-align: right;\n",
       "    }\n",
       "</style>\n",
       "<table border=\"1\" class=\"dataframe\">\n",
       "  <thead>\n",
       "    <tr style=\"text-align: right;\">\n",
       "      <th></th>\n",
       "      <th>Transaction Date</th>\n",
       "      <th>Clearing Date</th>\n",
       "      <th>Description</th>\n",
       "      <th>Merchant</th>\n",
       "      <th>Category</th>\n",
       "      <th>Type</th>\n",
       "      <th>Amount (USD)</th>\n",
       "      <th>Purchased By</th>\n",
       "    </tr>\n",
       "  </thead>\n",
       "  <tbody>\n",
       "    <tr>\n",
       "      <th>6</th>\n",
       "      <td>05/17/2023</td>\n",
       "      <td>05/18/2023</td>\n",
       "      <td>BEST BUY 000085163090 STEVENS CREEK BVD SAN JO...</td>\n",
       "      <td>Best Buy</td>\n",
       "      <td>Other</td>\n",
       "      <td>Purchase</td>\n",
       "      <td>76.55</td>\n",
       "      <td>Daniel Huang</td>\n",
       "    </tr>\n",
       "    <tr>\n",
       "      <th>9</th>\n",
       "      <td>05/13/2023</td>\n",
       "      <td>05/13/2023</td>\n",
       "      <td>CAL ALUMNI ASSOCIATION1 ALUMNI HOUSE (MEMB) BE...</td>\n",
       "      <td>Cal Alumni Association</td>\n",
       "      <td>Other</td>\n",
       "      <td>Purchase</td>\n",
       "      <td>340.00</td>\n",
       "      <td>Daniel Huang</td>\n",
       "    </tr>\n",
       "  </tbody>\n",
       "</table>\n",
       "</div>"
      ],
      "text/plain": [
       "  Transaction Date Clearing Date   \n",
       "6       05/17/2023    05/18/2023  \\\n",
       "9       05/13/2023    05/13/2023   \n",
       "\n",
       "                                         Description                Merchant   \n",
       "6  BEST BUY 000085163090 STEVENS CREEK BVD SAN JO...                Best Buy  \\\n",
       "9  CAL ALUMNI ASSOCIATION1 ALUMNI HOUSE (MEMB) BE...  Cal Alumni Association   \n",
       "\n",
       "  Category      Type  Amount (USD)  Purchased By  \n",
       "6    Other  Purchase         76.55  Daniel Huang  \n",
       "9    Other  Purchase        340.00  Daniel Huang  "
      ]
     },
     "execution_count": 52,
     "metadata": {},
     "output_type": "execute_result"
    }
   ],
   "source": [
    "apple_df[apple_df['Category']=='Other']"
   ]
  },
  {
   "attachments": {},
   "cell_type": "markdown",
   "metadata": {},
   "source": [
    "Only $2$ records in `apple_df` are in the \"Other\" `Category`. With that said, the one from Best Buy should be categorized as \"Shopping\" and the Cal Alumni Association doesn't really fall into any of Chase's categories, so I think I will have it remain as \"Other.\" I will performer the change on the former in preprocessing."
   ]
  },
  {
   "attachments": {},
   "cell_type": "markdown",
   "metadata": {},
   "source": [
    "Without diving to deep into the individual records, it seems like the following mapping can be created for the remaining categories:\n",
    "\n",
    "| BoA/Chase | Apple |\n",
    "| --- | --- |\n",
    "| Shopping | Shopping |\n",
    "| Food & Drink | Restaurants |\n",
    "| Groceries | Grocery |"
   ]
  },
  {
   "attachments": {},
   "cell_type": "markdown",
   "metadata": {},
   "source": [
    "### Preprocessing Plans"
   ]
  },
  {
   "attachments": {},
   "cell_type": "markdown",
   "metadata": {},
   "source": [
    "As mentioned in earlier sections of the EDA, I will do the following to each individual DataFrame:\n",
    "\n",
    "* `boa_df`:\n",
    "    * Drop null records as they are of `Type` \"Payment\" and I'm only interested in \"Sales\"\n",
    "    * Convert `Amount` to positive values\n",
    "* `chase_df`:\n",
    "    * Drop null records, same reasoning as above\n",
    "    * Convert `Amount` to positive values\n",
    "* `apple_df`:\n",
    "    * Change record with `Merchant` \"Best Buy\" with `Category` \"Other\" to \"Shopping\"\n",
    "\n",
    "As for general preprocessing:\n",
    "* Rename all column names to the corresponding name desired in the table schema:\n",
    "    * | column_name | boa_df | chase_df | apple_df |\n",
    "        | --- | --- | --- | --- |\n",
    "        | transaction_date | Posted Date | Transaction Date | Transaction Date |\n",
    "        | merchant | Payee | Description | Merchant |\n",
    "        | category | Category | Category | Category |\n",
    "        | amount | Amount | Amount | Amount (USD) |\n",
    "        | card | \"BoA\" | \"Chase\" | \"Apple\" |\n",
    "* Drop all other columns that are not enumerated in the schema\n",
    "* For consistency, convert to lower case all values in the `Merchant` column. Additionally get rid of special characters like `*`"
   ]
  },
  {
   "attachments": {},
   "cell_type": "markdown",
   "metadata": {},
   "source": []
  }
 ],
 "metadata": {
  "kernelspec": {
   "display_name": "Python 3",
   "language": "python",
   "name": "python3"
  },
  "language_info": {
   "codemirror_mode": {
    "name": "ipython",
    "version": 3
   },
   "file_extension": ".py",
   "mimetype": "text/x-python",
   "name": "python",
   "nbconvert_exporter": "python",
   "pygments_lexer": "ipython3",
   "version": "3.11.3"
  },
  "orig_nbformat": 4
 },
 "nbformat": 4,
 "nbformat_minor": 2
}

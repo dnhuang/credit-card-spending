{
 "cells": [
  {
   "attachments": {},
   "cell_type": "markdown",
   "metadata": {},
   "source": [
    "## Preprocessing on Credit Card Spending"
   ]
  },
  {
   "attachments": {},
   "cell_type": "markdown",
   "metadata": {},
   "source": [
    "### Imports"
   ]
  },
  {
   "cell_type": "code",
   "execution_count": 1,
   "metadata": {},
   "outputs": [],
   "source": [
    "# necessary imports\n",
    "import pandas as pd\n",
    "\n",
    "# surpress warnings\n",
    "pd.options.mode.chained_assignment = None  # default='warn'"
   ]
  },
  {
   "attachments": {},
   "cell_type": "markdown",
   "metadata": {},
   "source": [
    "### Preprocessing"
   ]
  },
  {
   "attachments": {},
   "cell_type": "markdown",
   "metadata": {},
   "source": [
    "To quickly reiterate the preprocesssing plan laid out in `eda.ipynb`:\n",
    "\n",
    "Preprocessing for individual DataFrames:\n",
    "\n",
    "* `boa_df`:\n",
    "    * Drop null records as they are of `Type` \"Payment\" and I'm only interested in \"Sale\"\n",
    "    * Convert `Amount` to positive values\n",
    "* `chase_df`:\n",
    "    * Drop null records, same reasoning as above\n",
    "    * Convert `Amount` to positive values\n",
    "* `apple_df`:\n",
    "    * Change record with `Merchant` \"Best Buy\" with `Category` \"Other\" to \"Shopping\"\n",
    "    * Perform mapping for `Category` column:\n",
    "        * | BoA/Chase | Apple |\n",
    "            | --- | --- |\n",
    "            | Shopping | Shopping |\n",
    "            | Food & Drink | Restaurants |\n",
    "            | Groceries | Grocery |\n",
    "\n",
    "General preprocessing:\n",
    "* Rename all column names to the corresponding name desired in the table schema:\n",
    "    * | column_name | boa_df | chase_df | apple_df |\n",
    "        | --- | --- | --- | --- |\n",
    "        | transaction_date | Posted Date | Transaction Date | Transaction Date |\n",
    "        | merchant | Payee | Description | Merchant |\n",
    "        | category | Category | Category | Category |\n",
    "        | amount | Amount | Amount | Amount (USD) |\n",
    "        | card | \"BoA\" | \"Chase\" | \"Apple\" |\n",
    "* Drop all other columns that are not enumerated in the schema\n",
    "* For consistency, convert to lower case all values in the `Merchant` column. Additionally get rid of special characters `*` and `.` and replace with the empty character `''`"
   ]
  },
  {
   "attachments": {},
   "cell_type": "markdown",
   "metadata": {},
   "source": [
    "Reading in the datasets:"
   ]
  },
  {
   "cell_type": "code",
   "execution_count": 2,
   "metadata": {},
   "outputs": [],
   "source": [
    "# Read in the datasets\n",
    "boa_csv = \"data/bofa_spending_mod.csv\"\n",
    "boa_df = pd.read_csv(boa_csv)\n",
    "\n",
    "chase_csv = \"data/chase_spending.csv\"\n",
    "chase_df = pd.read_csv(chase_csv)\n",
    "\n",
    "apple_csv = \"data/apple_spending.csv\"\n",
    "apple_df = pd.read_csv(apple_csv)"
   ]
  },
  {
   "attachments": {},
   "cell_type": "markdown",
   "metadata": {},
   "source": [
    "#### Preprocessing Helper Functions"
   ]
  },
  {
   "attachments": {},
   "cell_type": "markdown",
   "metadata": {},
   "source": [
    "Below, I define a some general helper functions for preprocessing. Mostly simple filters and transformations. Honestly, these modifications aren't difficult and can be done in one line, but I decided to abstract them away into a helper function.\n",
    "\n",
    "For the preprocessing needed for `apple_df`, I will perform it in `preprocess_apple()`, as it is specific to just one record."
   ]
  },
  {
   "cell_type": "code",
   "execution_count": 3,
   "metadata": {},
   "outputs": [],
   "source": [
    "# Takes in a DataFrame `df` and removes records with `Type` payment\n",
    "# Returns the new filtered DataFrame\n",
    "def remove_payment(df):\n",
    "    return df[df['Type']=='Sale']\n",
    "\n",
    "# Takes in a DataFrame `df` and converts `amount` values to positive\n",
    "# Returns the new filtered DataFrame\n",
    "def convert_amount(df):\n",
    "    df['amount'] = abs(df['amount'])\n",
    "    return df\n",
    "\n",
    "# Takes in a DataFrame `df` and transforms the values in `column` (containing Strings) into lowercase\n",
    "# Returns the new transformed DataFrame\n",
    "def to_lower(df, column):\n",
    "    df[column] = df[column].str.lower()\n",
    "    return df\n",
    "\n",
    "# Takes in a DataFrame `df` and uses `mapping` to map (rename) column names to\n",
    "# those desired in the table schema\n",
    "# Returns the DataFrame with the renamed columns\n",
    "def transform_columns(df, mapping):\n",
    "    return df.rename(columns=mapping)\n",
    "\n",
    "# Takes in a DataFrame `df` and adds a column `card` containing values `card_name`\n",
    "# for every record in the DataFrame\n",
    "# Returns the new DataFrame with the added column\n",
    "def add_card_column(df, card_name):\n",
    "    df['card'] = [card_name]*len(df) # array containing len(df) number of card_names\n",
    "    return df\n",
    "\n",
    "def remove_special(df, column, pat, repl):\n",
    "    df[column] = df[column].str.replace(pat, repl, regex=True)\n",
    "    return df"
   ]
  },
  {
   "attachments": {},
   "cell_type": "markdown",
   "metadata": {},
   "source": [
    "#### Bank of America Preprocessing\n",
    "\n",
    "Below, I perform preprocessing on `boa_df`:"
   ]
  },
  {
   "cell_type": "code",
   "execution_count": 4,
   "metadata": {},
   "outputs": [],
   "source": [
    "schema_columns = ['transaction_date', 'merchant', 'category', 'amount', 'card']\n",
    "\n",
    "# Function that performs all the preprocessing functions for the Bank of America DataFrame\n",
    "# Returns the cleaned DataFrame\n",
    "def preprocess_boa():\n",
    "    # perform boa-specific preprocessing\n",
    "    # 1. Filter for `Type` \"Sale\"\n",
    "    clean_boa_df = remove_payment(boa_df)\n",
    "\n",
    "    # 3. Create boa-specific column mapping to table schema to rename columns\n",
    "    boa_mapping = {'Posted Date':'transaction_date', 'Payee':'merchant', 'Category':'category', 'Amount':'amount'}\n",
    "    clean_boa_df = transform_columns(clean_boa_df, boa_mapping)\n",
    "\n",
    "    # 2. Convert `Amount` to positive values\n",
    "    clean_boa_df = convert_amount(clean_boa_df)\n",
    "\n",
    "    # 4. Add `card` column containing 'BoA' for each record\n",
    "    clean_boa_df = add_card_column(clean_boa_df, 'BoA')\n",
    "\n",
    "    # 5. Remove special characters specified\n",
    "    clean_boa_df = remove_special(clean_boa_df, column='merchant', pat='[*.]', repl='')\n",
    "\n",
    "    # 6. Lowercase values in the `merchant` column\n",
    "    clean_boa_df = to_lower(clean_boa_df, 'merchant')\n",
    "\n",
    "    # 6. Keep desired columns as specified in table schema\n",
    "    clean_boa_df = clean_boa_df[schema_columns]\n",
    "\n",
    "    # Return the cleaned DataFrame\n",
    "    return clean_boa_df"
   ]
  },
  {
   "attachments": {},
   "cell_type": "markdown",
   "metadata": {},
   "source": [
    "Call `preprocess_boa()` and check if it was properly cleaned:"
   ]
  },
  {
   "cell_type": "code",
   "execution_count": 6,
   "metadata": {},
   "outputs": [
    {
     "data": {
      "text/html": [
       "<div>\n",
       "<style scoped>\n",
       "    .dataframe tbody tr th:only-of-type {\n",
       "        vertical-align: middle;\n",
       "    }\n",
       "\n",
       "    .dataframe tbody tr th {\n",
       "        vertical-align: top;\n",
       "    }\n",
       "\n",
       "    .dataframe thead th {\n",
       "        text-align: right;\n",
       "    }\n",
       "</style>\n",
       "<table border=\"1\" class=\"dataframe\">\n",
       "  <thead>\n",
       "    <tr style=\"text-align: right;\">\n",
       "      <th></th>\n",
       "      <th>transaction_date</th>\n",
       "      <th>merchant</th>\n",
       "      <th>category</th>\n",
       "      <th>amount</th>\n",
       "      <th>card</th>\n",
       "    </tr>\n",
       "  </thead>\n",
       "  <tbody>\n",
       "    <tr>\n",
       "      <th>0</th>\n",
       "      <td>05/09/2023</td>\n",
       "      <td>galpao gaucho cupertino</td>\n",
       "      <td>Food &amp; Drink</td>\n",
       "      <td>175.44</td>\n",
       "      <td>BoA</td>\n",
       "    </tr>\n",
       "    <tr>\n",
       "      <th>2</th>\n",
       "      <td>04/28/2023</td>\n",
       "      <td>tst teaspoon - saratoga</td>\n",
       "      <td>Food &amp; Drink</td>\n",
       "      <td>5.50</td>\n",
       "      <td>BoA</td>\n",
       "    </tr>\n",
       "    <tr>\n",
       "      <th>3</th>\n",
       "      <td>04/25/2023</td>\n",
       "      <td>chipotle 1031</td>\n",
       "      <td>Food &amp; Drink</td>\n",
       "      <td>24.53</td>\n",
       "      <td>BoA</td>\n",
       "    </tr>\n",
       "    <tr>\n",
       "      <th>4</th>\n",
       "      <td>04/24/2023</td>\n",
       "      <td>chipotle 1031</td>\n",
       "      <td>Food &amp; Drink</td>\n",
       "      <td>13.84</td>\n",
       "      <td>BoA</td>\n",
       "    </tr>\n",
       "    <tr>\n",
       "      <th>5</th>\n",
       "      <td>04/24/2023</td>\n",
       "      <td>dino's restaurant</td>\n",
       "      <td>Food &amp; Drink</td>\n",
       "      <td>38.00</td>\n",
       "      <td>BoA</td>\n",
       "    </tr>\n",
       "    <tr>\n",
       "      <th>6</th>\n",
       "      <td>04/24/2023</td>\n",
       "      <td>ckeikes place palo alto</td>\n",
       "      <td>Food &amp; Drink</td>\n",
       "      <td>36.33</td>\n",
       "      <td>BoA</td>\n",
       "    </tr>\n",
       "    <tr>\n",
       "      <th>7</th>\n",
       "      <td>04/24/2023</td>\n",
       "      <td>ikea east palo alto</td>\n",
       "      <td>Shopping</td>\n",
       "      <td>7.81</td>\n",
       "      <td>BoA</td>\n",
       "    </tr>\n",
       "    <tr>\n",
       "      <th>8</th>\n",
       "      <td>04/24/2023</td>\n",
       "      <td>ikea east palo alto</td>\n",
       "      <td>Shopping</td>\n",
       "      <td>313.13</td>\n",
       "      <td>BoA</td>\n",
       "    </tr>\n",
       "    <tr>\n",
       "      <th>9</th>\n",
       "      <td>04/24/2023</td>\n",
       "      <td>dinos grill</td>\n",
       "      <td>Food &amp; Drink</td>\n",
       "      <td>33.03</td>\n",
       "      <td>BoA</td>\n",
       "    </tr>\n",
       "    <tr>\n",
       "      <th>10</th>\n",
       "      <td>04/24/2023</td>\n",
       "      <td>safeway #1224</td>\n",
       "      <td>Groceries</td>\n",
       "      <td>11.98</td>\n",
       "      <td>BoA</td>\n",
       "    </tr>\n",
       "  </tbody>\n",
       "</table>\n",
       "</div>"
      ],
      "text/plain": [
       "   transaction_date                 merchant      category  amount card\n",
       "0        05/09/2023  galpao gaucho cupertino  Food & Drink  175.44  BoA\n",
       "2        04/28/2023  tst teaspoon - saratoga  Food & Drink    5.50  BoA\n",
       "3        04/25/2023            chipotle 1031  Food & Drink   24.53  BoA\n",
       "4        04/24/2023            chipotle 1031  Food & Drink   13.84  BoA\n",
       "5        04/24/2023        dino's restaurant  Food & Drink   38.00  BoA\n",
       "6        04/24/2023  ckeikes place palo alto  Food & Drink   36.33  BoA\n",
       "7        04/24/2023      ikea east palo alto      Shopping    7.81  BoA\n",
       "8        04/24/2023      ikea east palo alto      Shopping  313.13  BoA\n",
       "9        04/24/2023              dinos grill  Food & Drink   33.03  BoA\n",
       "10       04/24/2023            safeway #1224     Groceries   11.98  BoA"
      ]
     },
     "execution_count": 6,
     "metadata": {},
     "output_type": "execute_result"
    }
   ],
   "source": [
    "clean_boa_df = preprocess_boa()\n",
    "clean_boa_df.head(10)"
   ]
  },
  {
   "attachments": {},
   "cell_type": "markdown",
   "metadata": {},
   "source": [
    "It looks like the cleaning was successful. Values in `merchant` have been converted to all lowercase and special characters have been replaced with `''`. All values in `amount` have been converted to positive values and an additional `card` column was added to the DataFrame. All desired columns have been renamed in accordance to the names specified in the table schema.\n",
    "\n",
    "Now, to repeat this process $2$ more times for `chase_df` and `apple_df`."
   ]
  },
  {
   "attachments": {},
   "cell_type": "markdown",
   "metadata": {},
   "source": [
    "#### Chase Preprocessing"
   ]
  },
  {
   "attachments": {},
   "cell_type": "markdown",
   "metadata": {},
   "source": [
    "#### Apple Preprocessing"
   ]
  },
  {
   "attachments": {},
   "cell_type": "markdown",
   "metadata": {},
   "source": []
  },
  {
   "attachments": {},
   "cell_type": "markdown",
   "metadata": {},
   "source": []
  },
  {
   "attachments": {},
   "cell_type": "markdown",
   "metadata": {},
   "source": []
  }
 ],
 "metadata": {
  "kernelspec": {
   "display_name": "Python 3",
   "language": "python",
   "name": "python3"
  },
  "language_info": {
   "codemirror_mode": {
    "name": "ipython",
    "version": 3
   },
   "file_extension": ".py",
   "mimetype": "text/x-python",
   "name": "python",
   "nbconvert_exporter": "python",
   "pygments_lexer": "ipython3",
   "version": "3.11.3"
  },
  "orig_nbformat": 4
 },
 "nbformat": 4,
 "nbformat_minor": 2
}
